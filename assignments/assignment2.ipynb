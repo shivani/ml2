{
 "cells": [
  {
   "cell_type": "code",
   "execution_count": 22,
   "metadata": {},
   "outputs": [
    {
     "name": "stdout",
     "output_type": "stream",
     "text": [
      "Str out is: dshivaniah\n",
      "Int out is: 37\n"
     ]
    }
   ],
   "source": [
    "from functools import reduce\n",
    "lst =[\"d\",\"shivani\",\"ah\"]\n",
    "lst2 =[3,22,12]\n",
    "\n",
    "    \n",
    "#reduce(lambda a,b: a+b,lst)\n",
    "\n",
    "\n",
    "def myreduce(fn, list1):\n",
    "    if type(list1[0]) == str:\n",
    "        out = \"\"\n",
    "    else:\n",
    "        out = 0\n",
    "    \n",
    "    \n",
    "    for il in range(0,len(list1),1):\n",
    "        out = fn(out,list1[il] )\n",
    "  \n",
    "    return out \n",
    "\n",
    "strOut = myreduce(lambda a,b: a+b, lst)\n",
    "intOut = myreduce(lambda a,b: a+b, lst2)\n",
    "print(\"Str out is:\", strOut)\n",
    "print(\"Int out is:\", intOut)"
   ]
  },
  {
   "cell_type": "code",
   "execution_count": 30,
   "metadata": {},
   "outputs": [
    {
     "data": {
      "text/plain": [
       "[2, 4, 6]"
      ]
     },
     "execution_count": 30,
     "metadata": {},
     "output_type": "execute_result"
    }
   ],
   "source": [
    "  \n",
    "def myfilter(fn, list1):\n",
    "    for item in list1:\n",
    "        if fn(item):\n",
    "            yield item\n",
    "    \n",
    "\n",
    "list1 =  [1,2,3,4,5,6]\n",
    "\n",
    "def even_num(num):\n",
    "    if num%2==0:\n",
    "        return True\n",
    "    else:\n",
    "        return False\n",
    "    \n",
    "\n",
    "list(myfilter(even_num, list1))\n",
    "     "
   ]
  },
  {
   "cell_type": "raw",
   "metadata": {},
   "source": [
    "\n"
   ]
  },
  {
   "cell_type": "code",
   "execution_count": 61,
   "metadata": {},
   "outputs": [
    {
     "name": "stdout",
     "output_type": "stream",
     "text": [
      "['A', 'C', 'A', 'D', 'G', 'I', 'L', 'D']\n",
      "'x','xx','xxx','xxxx','y','yy','yyy','yyyy','z','zz','zzz','zzzz',"
     ]
    }
   ],
   "source": [
    "print([item for item in \"ACADGILD\" ])\n",
    "maxCount = 5\n",
    "counter = 1\n",
    "for item in \"xyz\":\n",
    "    for z in range(1,maxCount):\n",
    "        print(\"'\"+ item*z +\"'\", end=\",\")\n",
    "    \n",
    "    \n",
    "            "
   ]
  },
  {
   "cell_type": "code",
   "execution_count": 116,
   "metadata": {},
   "outputs": [
    {
     "name": "stdout",
     "output_type": "stream",
     "text": [
      "['x', 'xx', 'xxx', 'xxxx', 'y', 'yy', 'yyy', 'yyyy', 'z', 'zz', 'zzz', 'zzzz']\n",
      "['x', 'y', 'z', 'xx', 'yy', 'zz', 'xxx', 'yyy', 'zzz', 'xxxx', 'yyyy', 'zzzz']\n",
      "[[2], [3], [4], [3], [4], [5], [4], [5], [6]]\n",
      "[[2, 3, 4, 5], [3, 4, 5, 6], [4, 5, 6, 7], [5, 6, 7, 8]]\n",
      "[(1, 1), (2, 1), (3, 1), (1, 2), (2, 2), (3, 2), (1, 3), (2, 3), (3, 3)]\n"
     ]
    }
   ],
   "source": [
    "arr1=\"xyz\"\n",
    "length= 5\n",
    "listxyz = [j*k for j in arr1 for k in range(1,length)]\n",
    "print(listxyz)\n",
    "\n",
    "\n",
    "listxyz2 = [j*k  for k in range(1,length)  for j in arr1 ]\n",
    "print(listxyz2)\n",
    "\n",
    "orig=[1,2,3]\n",
    "counter = 4\n",
    "listxyz3 = [ [j+k] for j in orig for k in range(1,counter,1)]\n",
    "print(listxyz3)\n",
    "\n",
    "\n",
    "orig=[1,2,3]\n",
    "counter = 6\n",
    "listxyz3 = [ [k,k+1,k+2,k+3]   for k in range(2,counter,1)]\n",
    "print(listxyz3)\n",
    "\n",
    "\n",
    "orig=[1,2,3]\n",
    "counter=4\n",
    "listxyz5 = [ (j,k)  for k in range(1,counter,1) for j in orig]\n",
    "print(listxyz5)\n",
    "\n"
   ]
  },
  {
   "cell_type": "code",
   "execution_count": 126,
   "metadata": {},
   "outputs": [
    {
     "name": "stdout",
     "output_type": "stream",
     "text": [
      "morelongerthan\n"
     ]
    }
   ],
   "source": [
    "#Implement a function longestWord() that takes a list of words and returns the longest one.\n",
    "\n",
    "def longestWord2(wordList):\n",
    "    if(len(wordList)==0):\n",
    "        return \"\"\n",
    "    index = 0\n",
    "    maxLength=0\n",
    "    for w in range(len(wordList)):\n",
    "        if(len(wordList[w]) > maxLength ):\n",
    "            maxLength = len(wordList[w])\n",
    "            index = w\n",
    "    \n",
    "    \n",
    "    return  wordList[index]   \n",
    "\n",
    "\n",
    "wordL = longestWord2(['one','two','morelongerthan','longest','small1', 'small2', 'small3'])\n",
    "print(wordL)        "
   ]
  },
  {
   "cell_type": "code",
   "execution_count": 172,
   "metadata": {},
   "outputs": [
    {
     "name": "stdout",
     "output_type": "stream",
     "text": [
      "sideLengthA : 2\n",
      "sideLengthB : 3\n",
      "sideLengthC : 4\n",
      "S is ::  7.0\n",
      "Triangle area is :  20.493901531919196\n"
     ]
    }
   ],
   "source": [
    "#to find the area of the triangle using the below\n",
    "#Function to take the length of the sides of triangle from user should be defined in the \n",
    "#parent class and function to calculate the area should be defined in subclass.\n",
    "\n",
    "class TriangleLength:\n",
    "     def __init__(self):\n",
    "             self.a = int(input(\"sideLengthA : \"))\n",
    "             self.b = int(input(\"sideLengthB : \"))\n",
    "             self.c = int(input(\"sideLengthC : \"))\n",
    "\n",
    "class TriangleArea(TriangleLength):\n",
    "    def __init__(self, *args):\n",
    "            TriangleLength.__init__(self)\n",
    "            #super( TriangleLength , self).__init__(*args)\n",
    "            \n",
    "            \n",
    "    def calculateArea(self):\n",
    "            s =  (self.a+self.b+self.c/2)\n",
    "            print(\"S is :: \" , s)\n",
    "            area = ((s*(s-self.a)*(s-self.b)*(s-self.c))**0.5)\n",
    "            #area=22\n",
    "            print(\"Triangle area is : \" , area)\n",
    "            \n",
    "\n",
    " \n",
    "t2 = TriangleArea()\n",
    "t2.calculateArea()"
   ]
  },
  {
   "cell_type": "code",
   "execution_count": 127,
   "metadata": {},
   "outputs": [
    {
     "name": "stdout",
     "output_type": "stream",
     "text": [
      "['over3', 'longer2']\n"
     ]
    }
   ],
   "source": [
    "#filter_long_words() that takes a list of words and an integer n and returns the list of words that are longer than n.\n",
    "\n",
    "\n",
    "def filter_long_words(wordList,n):\n",
    "    index = 0\n",
    "    maxLength=0\n",
    "    newListN=[]\n",
    "    for w in range(len(wordList)):\n",
    "        if(len(wordList[w]) > n ):\n",
    "            newListN.append(wordList[w])\n",
    "   \n",
    "    return  newListN\n",
    "\n",
    "\n",
    "lw = filter_long_words(['wow','over3','ah','longer2'], 4)\n",
    "print(lw)\n",
    "    "
   ]
  },
  {
   "cell_type": "code",
   "execution_count": 138,
   "metadata": {},
   "outputs": [
    {
     "name": "stdout",
     "output_type": "stream",
     "text": [
      "[3, 5, 2, 7]\n"
     ]
    }
   ],
   "source": [
    "#maps list of words into a list of integers representing the lengths of the corresponding words\n",
    "\n",
    "\n",
    "def mapWordsToIntLength(wordList):\n",
    "    newListN = []\n",
    "    for w in range(len(wordList)):\n",
    "        newListN.append(len(wordList[w]))\n",
    "                        \n",
    "    return newListN\n",
    "\n",
    "\n",
    "lw = mapWordsToIntLength(['wow','over3','ah','longer2'])\n",
    "print(lw)\n"
   ]
  },
  {
   "cell_type": "code",
   "execution_count": 140,
   "metadata": {},
   "outputs": [
    {
     "name": "stdout",
     "output_type": "stream",
     "text": [
      "a: True\n",
      "b: False\n",
      "c: False\n",
      "e: True\n"
     ]
    }
   ],
   "source": [
    "#Python function which takes a character (i.e. a string of length 1) and returns True if it is a vowel, False otherwise.\n",
    "def vowelTester(char1):\n",
    "    listVowel=['a','e','i','o','u']\n",
    "    if(listVowel.count(char1) > 0):\n",
    "        return True\n",
    "    else:\n",
    "        return False\n",
    "\n",
    "    \n",
    "print('a:' ,  vowelTester('a'))\n",
    "print('b:' ,  vowelTester('b'))\n",
    "print('c:' ,  vowelTester('c'))\n",
    "print('e:' ,  vowelTester('e'))\n",
    "\n",
    "    "
   ]
  },
  {
   "cell_type": "code",
   "execution_count": null,
   "metadata": {},
   "outputs": [],
   "source": []
  }
 ],
 "metadata": {
  "kernelspec": {
   "display_name": "Python 3",
   "language": "python",
   "name": "python3"
  },
  "language_info": {
   "codemirror_mode": {
    "name": "ipython",
    "version": 3
   },
   "file_extension": ".py",
   "mimetype": "text/x-python",
   "name": "python",
   "nbconvert_exporter": "python",
   "pygments_lexer": "ipython3",
   "version": "3.7.3"
  }
 },
 "nbformat": 4,
 "nbformat_minor": 2
}
