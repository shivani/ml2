{
 "cells": [
  {
   "cell_type": "code",
   "execution_count": null,
   "metadata": {},
   "outputs": [],
   "source": [
    "i=2000\n",
    "listNumFound=[]\n",
    "while i <= 3200:\n",
    "    if(i%7==0 and i%5!=0):\n",
    "        listNumFound.append(i)\n",
    "    i=i+1\n",
    "\n",
    "print(listNumFound)"
   ]
  },
  {
   "cell_type": "code",
   "execution_count": null,
   "metadata": {},
   "outputs": [],
   "source": [
    "g1 =  input(\"First name : \") \n",
    "g2 =  input(\"Last name  : \") \n",
    "\n",
    "strComplete = g1 +\" \" + g2\n",
    "strComplete[::-1]\n",
    "\n"
   ]
  },
  {
   "cell_type": "code",
   "execution_count": null,
   "metadata": {},
   "outputs": [],
   "source": [
    "diameter=12\n",
    "volumeSphere=(4/3)* 3.1419 * pow(diameter/2, 3)\n",
    "print(\"Volume of sphere is\", volumeSphere)"
   ]
  },
  {
   "cell_type": "code",
   "execution_count": 29,
   "metadata": {},
   "outputs": [
    {
     "name": "stdout",
     "output_type": "stream",
     "text": [
      "Enter comma separated numbers: 1,4,6\n",
      "[1, 4, 6]\n"
     ]
    }
   ],
   "source": [
    "inputNum = input(\"Enter comma separated numbers: \")\n",
    "listStrArr = inputNum.split(\",\")\n",
    "listNum = list()\n",
    "for i in range(0,len(listStrArr)):\n",
    "    listNum.append( int(listStrArr[i]))\n",
    "    \n",
    "\n",
    "print (listNum)\n"
   ]
  },
  {
   "cell_type": "code",
   "execution_count": 38,
   "metadata": {},
   "outputs": [
    {
     "name": "stdout",
     "output_type": "stream",
     "text": [
      "*\n",
      "**\n",
      "***\n",
      "****\n",
      "*****\n",
      "****\n",
      "***\n",
      "**\n",
      "*\n"
     ]
    }
   ],
   "source": [
    "i = 0\n",
    "j = 0\n",
    "while i<5:\n",
    "  while j<i and i!=0:\n",
    "     print('*', end=\"\")\n",
    "     j+=1\n",
    "  print('*') \n",
    "  j=0\n",
    "  i+=1\n",
    "\n",
    "i = 4\n",
    "j = 0\n",
    "while i>0:\n",
    "   while j<i-1:\n",
    "    print('*', end='') \n",
    "    j +=1\n",
    "   i = i-1\n",
    "   j = 0\n",
    "   print ('*') \n",
    "\n",
    "\n",
    "\n"
   ]
  },
  {
   "cell_type": "code",
   "execution_count": 39,
   "metadata": {},
   "outputs": [
    {
     "name": "stdout",
     "output_type": "stream",
     "text": [
      "Enter word to reverse:shivani\n",
      "inavihs\n"
     ]
    }
   ],
   "source": [
    "inword = input('Enter word to reverse:')\n",
    "print(inword[::-1])\n"
   ]
  },
  {
   "cell_type": "code",
   "execution_count": 61,
   "metadata": {},
   "outputs": [
    {
     "name": "stdout",
     "output_type": "stream",
     "text": [
      "WE, THE PEOPLE OF INDIA,\n",
      " \t having solemnly resolved to constitute India into a SOVEREIGN,!\n",
      " \t\tSOCIALIST, SECULAR, DEMOCRATIC REPUBLIC\n",
      " \t\t and to secure to all its citizens\n"
     ]
    }
   ],
   "source": [
    "strInput = 'WE, THE PEOPLE OF INDIA, having solemnly resolved to constitute India into a SOVEREIGN, SOCIALIST, SECULAR, DEMOCRATIC REPUBLIC and to secure to all its citizens'\n",
    "strInput = strInput.replace('INDIA,','INDIA,\\n')\n",
    "strInput = strInput.replace('having','\\t having')\n",
    "strInput = strInput.replace('SOCIALIST','\\t\\tSOCIALIST')\n",
    "strInput = strInput.replace('SOVEREIGN,','SOVEREIGN,!\\n')\n",
    "strInput = strInput.replace('and','\\t\\t and')\n",
    "strInput = strInput.replace('REPUBLIC','REPUBLIC\\n')\n",
    "print(strInput)"
   ]
  },
  {
   "cell_type": "code",
   "execution_count": null,
   "metadata": {},
   "outputs": [],
   "source": []
  },
  {
   "cell_type": "code",
   "execution_count": null,
   "metadata": {},
   "outputs": [],
   "source": []
  }
 ],
 "metadata": {
  "kernelspec": {
   "display_name": "Python 3",
   "language": "python",
   "name": "python3"
  },
  "language_info": {
   "codemirror_mode": {
    "name": "ipython",
    "version": 3
   },
   "file_extension": ".py",
   "mimetype": "text/x-python",
   "name": "python",
   "nbconvert_exporter": "python",
   "pygments_lexer": "ipython3",
   "version": "3.7.3"
  }
 },
 "nbformat": 4,
 "nbformat_minor": 2
}
