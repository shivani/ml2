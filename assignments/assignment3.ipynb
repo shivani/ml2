{
 "cells": [
  {
   "cell_type": "code",
   "execution_count": 8,
   "metadata": {},
   "outputs": [
    {
     "name": "stdout",
     "output_type": "stream",
     "text": [
      "Error in computing\n"
     ]
    }
   ],
   "source": [
    "def compute():\n",
    "    try:\n",
    "        errOp = 5/0\n",
    "    except Exception:\n",
    "        print(\"Error in computing\")\n",
    "\n",
    "        \n",
    "compute()"
   ]
  },
  {
   "cell_type": "code",
   "execution_count": 9,
   "metadata": {},
   "outputs": [
    {
     "name": "stdout",
     "output_type": "stream",
     "text": [
      "Americans Play Baseball\n",
      "Americans Play cricket\n",
      "Americans watch Baseball\n",
      "Americans watch cricket\n",
      "Indians Play Baseball\n",
      "Indians Play cricket\n",
      "Indians watch Baseball\n",
      "Indians watch cricket\n"
     ]
    }
   ],
   "source": [
    "def combinations():\n",
    "    o1=[\"Americans\", \"Indians\"]  \n",
    "    o2=[\"Play\", \"watch\"] \n",
    "    o3=[\"Baseball\",\"cricket\"]\n",
    "    for citizen in o1:\n",
    "        for action in o2:\n",
    "            for game in o3:\n",
    "                print(\"{} {} {}\".format(citizen, action, game))\n",
    "\n",
    "\n",
    "                \n",
    "combinations()\n"
   ]
  },
  {
   "cell_type": "code",
   "execution_count": 27,
   "metadata": {},
   "outputs": [
    {
     "name": "stdout",
     "output_type": "stream",
     "text": [
      "[[1, 1, 1, 1], [1, 2, 4, 8], [1, 3, 9, 27], [1, 5, 25, 125]]\n",
      "[[1, 1, 1, 1], [8, 4, 2, 1], [27, 9, 3, 1], [125, 25, 5, 1]]\n"
     ]
    }
   ],
   "source": [
    "\n",
    "def customVander(vectorInput, order=False):\n",
    "    outputMatrix=[]\n",
    "    for i in range(len(vectorInput)):\n",
    "        tempArr=[]\n",
    "        tempInput = vectorInput[i]\n",
    "        if(order):\n",
    "            for j in range(len(vectorInput)):\n",
    "                tempArr.append(tempInput**j)\n",
    "        else:\n",
    "            for j in range(len(vectorInput)-1,-1,-1):\n",
    "                tempArr.append(tempInput**j)\n",
    "        \n",
    "        outputMatrix.append(tempArr)\n",
    "    return outputMatrix\n",
    "        \n",
    "vectorInputRaw=[1,2,3,5]\n",
    "outputMatrixOrdered = customVander(vectorInputRaw, True)\n",
    "print(outputMatrixOrdered)\n",
    "\n",
    "\n",
    "outputMatrixUnordered = customVander(vectorInputRaw, False)\n",
    "print(outputMatrixUnordered)\n"
   ]
  },
  {
   "cell_type": "code",
   "execution_count": null,
   "metadata": {},
   "outputs": [],
   "source": []
  }
 ],
 "metadata": {
  "kernelspec": {
   "display_name": "Python 3",
   "language": "python",
   "name": "python3"
  },
  "language_info": {
   "codemirror_mode": {
    "name": "ipython",
    "version": 3
   },
   "file_extension": ".py",
   "mimetype": "text/x-python",
   "name": "python",
   "nbconvert_exporter": "python",
   "pygments_lexer": "ipython3",
   "version": "3.7.3"
  }
 },
 "nbformat": 4,
 "nbformat_minor": 2
}
